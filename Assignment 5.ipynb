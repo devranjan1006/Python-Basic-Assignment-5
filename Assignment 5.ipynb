{
 "cells": [
  {
   "cell_type": "markdown",
   "metadata": {},
   "source": [
    "# Assignment 5"
   ]
  },
  {
   "cell_type": "markdown",
   "metadata": {},
   "source": [
    "1. What does an empty dictionary's code look like?"
   ]
  },
  {
   "cell_type": "markdown",
   "metadata": {},
   "source": [
    "We can create empty dictionary in two ways:\n",
    "\n",
    "1. d = dict()\n",
    "\n",
    "2. d = {}\n",
    "\n",
    "Both the codes will create an emptyt dictionary and store in variable d."
   ]
  },
  {
   "cell_type": "markdown",
   "metadata": {},
   "source": [
    "2. What is the value of a dictionary value with the key 'foo' and the value 42?"
   ]
  },
  {
   "cell_type": "code",
   "execution_count": null,
   "metadata": {},
   "outputs": [],
   "source": [
    "{'foo':42}"
   ]
  },
  {
   "cell_type": "markdown",
   "metadata": {},
   "source": [
    "3. What is the most significant distinction between a dictionary and a list?"
   ]
  },
  {
   "cell_type": "markdown",
   "metadata": {},
   "source": [
    "The most significant distinction between list and dictionary is that list is a sequence of only elements and dictionary is a sequence of key and element pair. List is an ordered sequence whereas dictioanry is an unordered sequence. We can access elements of a list using indexes whereas we in dictionary keys can be used to access the elements. In list indexes can only be numbers whereas indexes in dictionary can be anything.\n",
    "\n",
    "for eg:\n",
    "\n",
    "1. List -   \n",
    "\n",
    "lst = [1, 4, 7, 8, 9]\n",
    "\n",
    "lst[3]\n",
    "\n",
    "2. Dictionary -\n",
    "\n",
    "dict = {'A':'Ana', 'B':'Brandon', 'C':'Clare'}\n",
    "\n",
    "dict['B']"
   ]
  },
  {
   "cell_type": "markdown",
   "metadata": {},
   "source": [
    "4. What happens if you try to access spam['foo'] if spam is {'bar': 100}?"
   ]
  },
  {
   "cell_type": "markdown",
   "metadata": {},
   "source": [
    "It will throw an error as there is no key 'foo' referring to any element in the dictionary."
   ]
  },
  {
   "cell_type": "markdown",
   "metadata": {},
   "source": [
    "5. If a dictionary is stored in spam, what is the difference between the expressions 'cat' in spam and 'cat' in spam.keys()?"
   ]
  },
  {
   "cell_type": "markdown",
   "metadata": {},
   "source": [
    "There is no difference in the expression as both the expression checks for that value in the keys of the dictionary as seen below:"
   ]
  },
  {
   "cell_type": "code",
   "execution_count": 1,
   "metadata": {},
   "outputs": [
    {
     "name": "stdout",
     "output_type": "stream",
     "text": [
      "yes the key is present\n",
      "yes the key is present\n"
     ]
    }
   ],
   "source": [
    "spam = {'cat':123}\n",
    "if 'cat' in spam:\n",
    "    print('yes the key is present')\n",
    "else:\n",
    "    pass\n",
    "\n",
    "if 'cat' in spam.keys():\n",
    "    print('yes the key is present')\n",
    "else:\n",
    "    pass\n"
   ]
  },
  {
   "cell_type": "markdown",
   "metadata": {},
   "source": [
    "6. If a dictionary is stored in spam, what is the difference between the expressions 'cat' in spam and 'cat' in spam.values()?"
   ]
  },
  {
   "cell_type": "markdown",
   "metadata": {},
   "source": [
    "There is a difference in both the expressions as the first expression checks for the value in the key list whereas the latter checks for the value in the element list. This can be seen as below:"
   ]
  },
  {
   "cell_type": "code",
   "execution_count": 16,
   "metadata": {},
   "outputs": [
    {
     "name": "stdout",
     "output_type": "stream",
     "text": [
      "Its a key\n",
      "Its not an key\n"
     ]
    }
   ],
   "source": [
    "`spam = {'cat':123}\n",
    "if 'cat' in spam:\n",
    "    print('Its a key')\n",
    "else:\n",
    "    print('Its not a key')\n",
    "\n",
    "if 'cat' in spam.values():\n",
    "    print('Its a key')\n",
    "else:\n",
    "    print('Its not an key')\n"
   ]
  },
  {
   "cell_type": "markdown",
   "metadata": {},
   "source": [
    "7. What is a shortcut for the following code?\n",
    "\n",
    "if 'color' not in spam:\n",
    "\n",
    "    spam['color'] = 'black'"
   ]
  },
  {
   "cell_type": "code",
   "execution_count": 54,
   "metadata": {},
   "outputs": [
    {
     "data": {
      "text/plain": [
       "{'cat': 123, 'color': 'black'}"
      ]
     },
     "execution_count": 54,
     "metadata": {},
     "output_type": "execute_result"
    }
   ],
   "source": [
    "spam.setdefault('color','black')\n",
    "spam"
   ]
  },
  {
   "cell_type": "markdown",
   "metadata": {},
   "source": [
    "8. How do you \"pretty print\" dictionary values using which module and function?"
   ]
  },
  {
   "cell_type": "markdown",
   "metadata": {},
   "source": [
    "There is a module named as pprint that provides option to 'pretty print' dictionary values. This module has a function named as pprint()which serves our purpose. This can be demonstrated as below:"
   ]
  },
  {
   "cell_type": "code",
   "execution_count": 31,
   "metadata": {},
   "outputs": [
    {
     "name": "stdout",
     "output_type": "stream",
     "text": [
      "{1: {'Name': 'Ana', 'Age': 25},\n",
      " 2: {'Name': 'Brandon', 'Age': 26},\n",
      " 3: {'Name': 'Clare', 'Age': 24}}\n"
     ]
    }
   ],
   "source": [
    "import pprint as pp\n",
    "\n",
    "dict = {1:{'Name':'Ana', 'Age': 25}, 2:{'Name':'Brandon', 'Age': 26}, 3:{'Name':'Clare', 'Age':24}}\n",
    "\n",
    "dict_upt = pp.pprint(dict,sort_dicts=False)\n",
    "\n",
    "dict_upt"
   ]
  }
 ],
 "metadata": {
  "kernelspec": {
   "display_name": "Python 3",
   "language": "python",
   "name": "python3"
  },
  "language_info": {
   "codemirror_mode": {
    "name": "ipython",
    "version": 3
   },
   "file_extension": ".py",
   "mimetype": "text/x-python",
   "name": "python",
   "nbconvert_exporter": "python",
   "pygments_lexer": "ipython3",
   "version": "3.8.5"
  }
 },
 "nbformat": 4,
 "nbformat_minor": 4
}
